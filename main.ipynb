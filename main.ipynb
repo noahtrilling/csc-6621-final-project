{
 "cells": [
  {
   "cell_type": "markdown",
   "id": "3506bab1",
   "metadata": {},
   "source": [
    "# Reuters Newswire Classification\n",
    "*Charles Roberts, Kyle Rohde, Noah Trilling*"
   ]
  },
  {
   "cell_type": "code",
   "execution_count": 1,
   "id": "d273da4e",
   "metadata": {},
   "outputs": [
    {
     "name": "stderr",
     "output_type": "stream",
     "text": [
      "2025-04-16 20:18:38.574343: I tensorflow/core/platform/cpu_feature_guard.cc:193] This TensorFlow binary is optimized with oneAPI Deep Neural Network Library (oneDNN) to use the following CPU instructions in performance-critical operations:  AVX2 AVX512F AVX512_VNNI FMA\n",
      "To enable them in other operations, rebuild TensorFlow with the appropriate compiler flags.\n",
      "2025-04-16 20:18:38.964244: I tensorflow/core/util/port.cc:104] oneDNN custom operations are on. You may see slightly different numerical results due to floating-point round-off errors from different computation orders. To turn them off, set the environment variable `TF_ENABLE_ONEDNN_OPTS=0`.\n",
      "2025-04-16 20:18:39.040766: W tensorflow/compiler/xla/stream_executor/platform/default/dso_loader.cc:64] Could not load dynamic library 'libcudart.so.11.0'; dlerror: libcudart.so.11.0: cannot open shared object file: No such file or directory\n",
      "2025-04-16 20:18:39.040797: I tensorflow/compiler/xla/stream_executor/cuda/cudart_stub.cc:29] Ignore above cudart dlerror if you do not have a GPU set up on your machine.\n",
      "2025-04-16 20:18:41.225133: W tensorflow/compiler/xla/stream_executor/platform/default/dso_loader.cc:64] Could not load dynamic library 'libnvinfer.so.7'; dlerror: libnvinfer.so.7: cannot open shared object file: No such file or directory\n",
      "2025-04-16 20:18:41.225452: W tensorflow/compiler/xla/stream_executor/platform/default/dso_loader.cc:64] Could not load dynamic library 'libnvinfer_plugin.so.7'; dlerror: libnvinfer_plugin.so.7: cannot open shared object file: No such file or directory\n",
      "2025-04-16 20:18:41.225461: W tensorflow/compiler/tf2tensorrt/utils/py_utils.cc:38] TF-TRT Warning: Cannot dlopen some TensorRT libraries. If you would like to use Nvidia GPU with TensorRT, please make sure the missing libraries mentioned above are installed properly.\n"
     ]
    }
   ],
   "source": [
    "import matplotlib.pyplot as plt\n",
    "import numpy as np\n",
    "import seaborn as sns\n",
    "from keras.datasets import reuters\n",
    "from keras.models import Sequential\n",
    "from keras.layers import Dense, Embedding, LSTM\n",
    "from tensorflow.keras.preprocessing.sequence import pad_sequences\n",
    "from sklearn.linear_model import LogisticRegression\n",
    "from sklearn.metrics import classification_report\n",
    "from sklearn.model_selection import train_test_split\n",
    "\n",
    "seed = 42\n",
    "max_sequence_length = 300\n",
    "vocabulary_size = 2000"
   ]
  },
  {
   "cell_type": "markdown",
   "id": "bea4de8c",
   "metadata": {},
   "source": [
    "## Exploratory Data Analysis\n",
    "Load the newswire dataset, word index, and label names."
   ]
  },
  {
   "cell_type": "code",
   "execution_count": 2,
   "id": "8edf78b5",
   "metadata": {},
   "outputs": [
    {
     "name": "stdout",
     "output_type": "stream",
     "text": [
      "Total samples: 11228\n",
      "Total classes: 46\n",
      "Total vocabulary: 30979\n",
      "Longest Sequence: 2376\n",
      "Shortest Sequence: 2\n",
      "Average Sequence Length: 145.96419665122906\n",
      "Top 50 Words: [('the', 1), ('of', 2), ('to', 3), ('in', 4), ('said', 5), ('and', 6), ('a', 7), ('mln', 8), ('3', 9), ('for', 10), ('vs', 11), ('dlrs', 12), ('it', 13), ('reuter', 14), ('000', 15), ('1', 16), ('pct', 17), ('on', 18), ('from', 19), ('is', 20), ('that', 21), ('its', 22), ('cts', 23), ('by', 24), ('at', 25), ('year', 26), ('be', 27), ('with', 28), ('2', 29), ('will', 30), ('was', 31), ('billion', 32), ('he', 33), ('u', 34), ('s', 35), ('net', 36), ('has', 37), ('would', 38), ('an', 39), ('as', 40), ('5', 41), ('not', 42), ('loss', 43), ('4', 44), ('1986', 45), ('company', 46), ('which', 47), ('but', 48), ('this', 49), ('shr', 50)]\n",
      "Bottom 50 Words: [('teishoku', 30930), ('bbd', 30931), ('grandmarais', 30932), ('enahnce', 30933), ('jerritt', 30934), ('wilq', 30935), ('cogeca', 30936), ('unflappable', 30937), ('cogeco', 30938), ('iol', 30939), ('flink', 30940), ('premiere', 30941), ('mtly', 30942), ('certian', 30943), ('meridionale', 30944), ('rocket', 30945), ('rocked', 30946), ('miniscule', 30947), ('464p', 30948), ('sky', 30949), ('skf', 30950), ('skb', 30951), ('earthquakes', 30952), ('geismar', 30953), ('protesters', 30954), ('republics', 30955), ('msft', 30956), ('miglio', 30957), (\"quake's\", 30958), ('demetree', 30959), ('cutlet', 30960), ('withstood', 30961), ('holleb', 30962), ('neglecting', 30963), ('leal', 30964), ('murdock', 30965), ('mite', 30966), ('btrx', 30967), ('brush', 30968), ('indictments', 30969), ('clampdown', 30970), ('corporacion', 30971), ('staalfabrieken', 30972), ('odilon', 30973), (\"guard's\", 30974), ('recirculation', 30975), ('capco', 30976), ('figueras', 30977), ('jung', 30978), ('northerly', 30979)]\n",
      "All Classes: ['0', '1', '2', '3', '4', '5', '6', '7', '8', '9', '10', '11', '12', '13', '14', '15', '16', '17', '18', '19', '20', '21', '22', '23', '24', '25', '26', '27', '28', '29', '30', '31', '32', '33', '34', '35', '36', '37', '38', '39', '40', '41', '42', '43', '44', '45']\n",
      "Sample x: [1, 39, 566, 11, 14, 841, 11, 29, 53, 617, 187, 193, 15, 14, 134, 533, 15, 53, 175, 3758, 948, 15, 14, 4313, 279, 15, 39, 4074, 11, 14, 3814, 11, 123, 248, 867, 377, 1471, 81, 19919, 64, 187, 6164, 2116, 617, 79, 335, 7, 48, 14, 187, 6164, 4656, 7, 105, 324, 27, 69, 12, 18, 730, 1698, 5, 4, 134, 248, 867, 377, 171, 19919, 75, 40, 251, 18, 79, 5, 175, 324, 27, 4, 867, 377, 171, 17, 12]\n",
      "Sample y: 3\n",
      "Sample x (decoded): ['?', 'net', '65', 'mln', 'vs', '57', 'mln', 'year', 'shr', 'preferred', '14', '87', 'dlrs', 'vs', '12', '51', 'dlrs', 'shr', 'common', '236', '77', 'dlrs', 'vs', '197', '40', 'dlrs', 'net', '247', 'mln', 'vs', '208', 'mln', 'note', 'federal', 'home', 'loan', 'mortgage', 'corp', 'fhlmc', 'had', '14', '998', '210', 'preferred', 'shares', 'outstanding', 'in', '1986', 'vs', '14', '998', '379', 'in', '1985', 'owned', 'by', 'about', '3', '000', 'member', 'institutions', 'of', 'the', '12', 'federal', 'home', 'loan', 'banks', 'fhlmc', 'also', 'has', '100', '000', 'shares', 'of', 'common', 'owned', 'by', 'the', 'home', 'loan', 'banks', 'reuter', '3']\n",
      "Sample y (decoded): 3\n"
     ]
    }
   ],
   "source": [
    "(x_full, y_full), (x_foo, y_foo) = reuters.load_data(test_split=0, seed=seed)\n",
    "index_by_word = reuters.get_word_index(path=\"reuters_word_index.json\")\n",
    "word_by_offset_index = {index + 3: word for word, index in index_by_word.items()}\n",
    "label_names = [str(i) for i in range(46)]  # 46 total classes\n",
    "y_full_label_names_decoded = [label_names[label] for label in y_full]\n",
    "num_classes = len(label_names)\n",
    "print(f\"Total samples: {len(x_full)}\")\n",
    "print(f\"Total classes: {num_classes}\")\n",
    "print(f\"Total vocabulary: {len(index_by_word)}\")\n",
    "print(f\"Longest Sequence: {max([len(x) for x in x_full])}\")\n",
    "print(f\"Shortest Sequence: {min([len(x) for x in x_full])}\")\n",
    "print(f\"Average Sequence Length: {np.mean([len(x) for x in x_full])}\")\n",
    "sorted_word_index = sorted(index_by_word.items(), key=lambda x: x[1])\n",
    "print(f\"Top 50 Words: {sorted_word_index[:50]}\")\n",
    "print(f\"Bottom 50 Words: {sorted_word_index[-50:]}\")\n",
    "print(f\"All Classes: {label_names}\")\n",
    "print(f\"Sample x: {x_full[0]}\")\n",
    "print(f\"Sample y: {y_full[0]}\")\n",
    "print(f\"Sample x (decoded): {[word_by_offset_index.get(i, '?') for i in x_full[0]]}\")\n",
    "print(f\"Sample y (decoded): {label_names[y_full[0]]}\")"
   ]
  },
  {
   "cell_type": "code",
   "execution_count": 3,
   "id": "253b9938",
   "metadata": {},
   "outputs": [
    {
     "name": "stderr",
     "output_type": "stream",
     "text": [
      "/usr/local/anaconda3/lib/python3.7/site-packages/seaborn/_decorators.py:43: FutureWarning: Pass the following variable as a keyword arg: x. From version 0.12, the only valid positional argument will be `data`, and passing other arguments without an explicit keyword will result in an error or misinterpretation.\n",
      "  FutureWarning\n"
     ]
    },
    {
     "data": {
      "image/png": "[encoded data removed]",
      "text/plain": [
       "<Figure size 432x288 with 1 Axes>"
      ]
     },
     "metadata": {
      "needs_background": "light"
     },
     "output_type": "display_data"
    }
   ],
   "source": [
    "sns.countplot(y_full_label_names_decoded)\n",
    "plt.title(\"Class Distribution\")\n",
    "plt.xlabel(\"Frequency\")\n",
    "plt.ylabel(\"Class\")\n",
    "plt.show()"
   ]
  },
  {
   "cell_type": "code",
   "execution_count": 4,
   "id": "668d2343",
   "metadata": {},
   "outputs": [
    {
     "data": {
      "image/png": "[encoded data removed]",
      "text/plain": [
       "<Figure size 432x288 with 1 Axes>"
      ]
     },
     "metadata": {
      "needs_background": "light"
     },
     "output_type": "display_data"
    }
   ],
   "source": [
    "sequence_lengths = [len(seq) for seq in x_full]\n",
    "plt.hist(sequence_lengths, bins=50)\n",
    "plt.title(\"Distribution of Sequence Lengths\")\n",
    "plt.xlabel(\"Sequence Length\")\n",
    "plt.ylabel(\"Frequency\")\n",
    "plt.show()"
   ]
  },
  {
   "cell_type": "code",
   "execution_count": 5,
   "id": "69d5c212",
   "metadata": {},
   "outputs": [
    {
     "data": {
      "image/png": "[encoded data removed]",
      "text/plain": [
       "<Figure size 432x288 with 1 Axes>"
      ]
     },
     "metadata": {
      "needs_background": "light"
     },
     "output_type": "display_data"
    }
   ],
   "source": [
    "import numpy as np\n",
    "\n",
    "avg_lengths_per_class = [np.mean([len(x_full[i]) for i in range(len(y_full)) if y_full[i] == label]) for label in range(len(label_names))]\n",
    "plt.bar(range(len(label_names)), avg_lengths_per_class)\n",
    "plt.title(\"Average Sequence Length per Class\")\n",
    "plt.xlabel(\"Class\")\n",
    "plt.ylabel(\"Average Sequence Length\")\n",
    "plt.show()"
   ]
  },
  {
   "cell_type": "markdown",
   "id": "7b62f30c",
   "metadata": {},
   "source": [
    "## Data Preprocessing"
   ]
  },
  {
   "cell_type": "code",
   "execution_count": 6,
   "id": "ccf6932d",
   "metadata": {},
   "outputs": [],
   "source": [
    "(x_full, y_full), (x_foo, y_foo) = reuters.load_data(num_words=vocabulary_size, skip_top=50, maxlen=max_sequence_length, test_split=0, seed=seed)\n",
    "x_full = [[token for token in sequence if token not in {0, 1, 2}] for sequence in x_full]\n",
    "x_train, x_temp, y_train, y_temp = train_test_split(\n",
    "    x_full, y_full, test_size=0.2, random_state=seed\n",
    ")\n",
    "x_test, x_val, y_test, y_val = train_test_split(\n",
    "    x_temp, y_temp, test_size=0.5, random_state=seed\n",
    ")\n",
    "x_train_padded = pad_sequences(x_train, maxlen=max_sequence_length, padding=\"post\")\n",
    "x_val_padded = pad_sequences(x_val, maxlen=max_sequence_length, padding=\"post\")\n",
    "x_test_padded = pad_sequences(x_test, maxlen=max_sequence_length, padding=\"post\")"
   ]
  },
  {
   "cell_type": "markdown",
   "id": "86156d97",
   "metadata": {},
   "source": [
    "## Classical Machine Learning"
   ]
  },
  {
   "cell_type": "code",
   "execution_count": 7,
   "id": "420c5b06",
   "metadata": {},
   "outputs": [
    {
     "name": "stdout",
     "output_type": "stream",
     "text": [
      "Validation Set Performance:\n",
      "              precision    recall  f1-score   support\n",
      "\n",
      "           0       0.20      0.33      0.25         3\n",
      "           1       0.00      0.00      0.00        48\n",
      "           2       0.00      0.00      0.00         7\n",
      "           3       0.57      0.67      0.61       400\n",
      "           4       0.23      0.34      0.27       189\n",
      "           5       0.00      0.00      0.00         2\n",
      "           6       0.00      0.00      0.00         3\n",
      "           7       0.00      0.00      0.00         0\n",
      "           8       0.00      0.00      0.00        14\n",
      "           9       0.00      0.00      0.00        15\n",
      "          10       0.00      0.00      0.00        22\n",
      "          11       0.09      0.03      0.05        32\n",
      "          12       0.00      0.00      0.00         9\n",
      "          13       0.00      0.00      0.00        15\n",
      "          14       0.00      0.00      0.00         1\n",
      "          15       0.00      0.00      0.00         1\n",
      "          16       0.00      0.00      0.00        48\n",
      "          17       0.00      0.00      0.00         5\n",
      "          18       0.00      0.00      0.00        12\n",
      "          19       0.16      0.05      0.07        61\n",
      "          20       0.09      0.04      0.06        23\n",
      "          21       0.00      0.00      0.00         6\n",
      "          22       0.00      0.00      0.00         4\n",
      "          23       0.00      0.00      0.00        10\n",
      "          24       0.00      0.00      0.00         4\n",
      "          25       0.00      0.00      0.00         7\n",
      "          26       0.00      0.00      0.00         3\n",
      "          27       0.00      0.00      0.00         2\n",
      "          28       0.00      0.00      0.00         8\n",
      "          29       0.00      0.00      0.00         1\n",
      "          30       0.00      0.00      0.00         5\n",
      "          31       0.00      0.00      0.00         2\n",
      "          32       0.00      0.00      0.00         1\n",
      "          33       0.00      0.00      0.00         1\n",
      "          34       0.12      0.25      0.17         4\n",
      "          35       0.00      0.00      0.00         1\n",
      "          36       0.00      0.00      0.00         3\n",
      "          37       0.00      0.00      0.00         3\n",
      "          38       0.00      0.00      0.00         2\n",
      "          39       0.00      0.00      0.00         2\n",
      "          40       0.25      0.17      0.20         6\n",
      "          41       0.00      0.00      0.00         3\n",
      "          42       0.00      0.00      0.00         3\n",
      "          43       0.00      0.00      0.00         1\n",
      "          44       1.00      0.67      0.80         3\n",
      "          45       0.00      0.00      0.00         2\n",
      "\n",
      "    accuracy                           0.34       997\n",
      "   macro avg       0.06      0.06      0.05       997\n",
      "weighted avg       0.29      0.34      0.31       997\n",
      "\n",
      "Test Set Performance:\n",
      "              precision    recall  f1-score   support\n",
      "\n",
      "           0       0.00      0.00      0.00         3\n",
      "           1       0.18      0.04      0.06        54\n",
      "           2       0.00      0.00      0.00        12\n",
      "           3       0.56      0.67      0.61       387\n",
      "           4       0.28      0.35      0.31       226\n",
      "           5       0.00      0.00      0.00         0\n",
      "           6       0.00      0.00      0.00         4\n",
      "           7       0.50      0.50      0.50         2\n",
      "           8       0.10      0.06      0.08        16\n",
      "           9       0.00      0.00      0.00        12\n",
      "          10       0.00      0.00      0.00        14\n",
      "          11       0.15      0.06      0.09        34\n",
      "          12       0.17      0.25      0.20         4\n",
      "          13       0.00      0.00      0.00        13\n",
      "          14       0.00      0.00      0.00         2\n",
      "          15       0.00      0.00      0.00         2\n",
      "          16       0.25      0.06      0.10        33\n",
      "          17       0.00      0.00      0.00         8\n",
      "          18       0.20      0.17      0.18         6\n",
      "          19       0.24      0.15      0.18        40\n",
      "          20       0.20      0.07      0.10        29\n",
      "          21       0.20      0.11      0.14         9\n",
      "          22       0.00      0.00      0.00         1\n",
      "          23       0.00      0.00      0.00         4\n",
      "          24       0.00      0.00      0.00        11\n",
      "          25       0.00      0.00      0.00        10\n",
      "          26       0.00      0.00      0.00         3\n",
      "          27       0.00      0.00      0.00         3\n",
      "          28       0.00      0.00      0.00         4\n",
      "          29       0.00      0.00      0.00         0\n",
      "          30       0.00      0.00      0.00         4\n",
      "          31       0.00      0.00      0.00         6\n",
      "          32       0.00      0.00      0.00         4\n",
      "          33       0.00      0.00      0.00         2\n",
      "          34       0.14      0.20      0.17         5\n",
      "          35       0.00      0.00      0.00         2\n",
      "          36       0.00      0.00      0.00         3\n",
      "          37       0.00      0.00      0.00         3\n",
      "          38       0.00      0.00      0.00         3\n",
      "          39       0.00      0.00      0.00         4\n",
      "          40       0.00      0.00      0.00         6\n",
      "          41       0.00      0.00      0.00         2\n",
      "          42       0.00      0.00      0.00         0\n",
      "          43       0.17      0.25      0.20         4\n",
      "          44       0.00      0.00      0.00         1\n",
      "          45       0.00      0.00      0.00         2\n",
      "\n",
      "    accuracy                           0.36       997\n",
      "   macro avg       0.07      0.06      0.06       997\n",
      "weighted avg       0.33      0.36      0.33       997\n",
      "\n"
     ]
    },
    {
     "name": "stderr",
     "output_type": "stream",
     "text": [
      "/usr/local/anaconda3/lib/python3.7/site-packages/sklearn/linear_model/_logistic.py:818: ConvergenceWarning: lbfgs failed to converge (status=1):\n",
      "STOP: TOTAL NO. of ITERATIONS REACHED LIMIT.\n",
      "\n",
      "Increase the number of iterations (max_iter) or scale the data as shown in:\n",
      "    https://scikit-learn.org/stable/modules/preprocessing.html\n",
      "Please also refer to the documentation for alternative solver options:\n",
      "    https://scikit-learn.org/stable/modules/linear_model.html#logistic-regression\n",
      "  extra_warning_msg=_LOGISTIC_SOLVER_CONVERGENCE_MSG,\n",
      "/usr/local/anaconda3/lib/python3.7/site-packages/sklearn/metrics/_classification.py:1318: UndefinedMetricWarning: Precision and F-score are ill-defined and being set to 0.0 in labels with no predicted samples. Use `zero_division` parameter to control this behavior.\n",
      "  _warn_prf(average, modifier, msg_start, len(result))\n",
      "/usr/local/anaconda3/lib/python3.7/site-packages/sklearn/metrics/_classification.py:1318: UndefinedMetricWarning: Recall and F-score are ill-defined and being set to 0.0 in labels with no true samples. Use `zero_division` parameter to control this behavior.\n",
      "  _warn_prf(average, modifier, msg_start, len(result))\n",
      "/usr/local/anaconda3/lib/python3.7/site-packages/sklearn/metrics/_classification.py:1318: UndefinedMetricWarning: Precision and F-score are ill-defined and being set to 0.0 in labels with no predicted samples. Use `zero_division` parameter to control this behavior.\n",
      "  _warn_prf(average, modifier, msg_start, len(result))\n",
      "/usr/local/anaconda3/lib/python3.7/site-packages/sklearn/metrics/_classification.py:1318: UndefinedMetricWarning: Recall and F-score are ill-defined and being set to 0.0 in labels with no true samples. Use `zero_division` parameter to control this behavior.\n",
      "  _warn_prf(average, modifier, msg_start, len(result))\n",
      "/usr/local/anaconda3/lib/python3.7/site-packages/sklearn/metrics/_classification.py:1318: UndefinedMetricWarning: Precision and F-score are ill-defined and being set to 0.0 in labels with no predicted samples. Use `zero_division` parameter to control this behavior.\n",
      "  _warn_prf(average, modifier, msg_start, len(result))\n",
      "/usr/local/anaconda3/lib/python3.7/site-packages/sklearn/metrics/_classification.py:1318: UndefinedMetricWarning: Recall and F-score are ill-defined and being set to 0.0 in labels with no true samples. Use `zero_division` parameter to control this behavior.\n",
      "  _warn_prf(average, modifier, msg_start, len(result))\n",
      "/usr/local/anaconda3/lib/python3.7/site-packages/sklearn/metrics/_classification.py:1318: UndefinedMetricWarning: Recall and F-score are ill-defined and being set to 0.0 in labels with no true samples. Use `zero_division` parameter to control this behavior.\n",
      "  _warn_prf(average, modifier, msg_start, len(result))\n",
      "/usr/local/anaconda3/lib/python3.7/site-packages/sklearn/metrics/_classification.py:1318: UndefinedMetricWarning: Recall and F-score are ill-defined and being set to 0.0 in labels with no true samples. Use `zero_division` parameter to control this behavior.\n",
      "  _warn_prf(average, modifier, msg_start, len(result))\n",
      "/usr/local/anaconda3/lib/python3.7/site-packages/sklearn/metrics/_classification.py:1318: UndefinedMetricWarning: Recall and F-score are ill-defined and being set to 0.0 in labels with no true samples. Use `zero_division` parameter to control this behavior.\n",
      "  _warn_prf(average, modifier, msg_start, len(result))\n"
     ]
    }
   ],
   "source": [
    "clf = LogisticRegression(max_iter=1000)\n",
    "clf.fit(x_train_padded, y_train)\n",
    "\n",
    "y_val_pred = clf.predict(x_val_padded)\n",
    "print(\"Validation Set Performance:\")\n",
    "print(classification_report(y_val, y_val_pred))\n",
    "\n",
    "y_test_pred = clf.predict(x_test_padded)\n",
    "print(\"Test Set Performance:\")\n",
    "print(classification_report(y_test, y_test_pred))"
   ]
  },
  {
   "cell_type": "markdown",
   "id": "efab0973",
   "metadata": {},
   "source": [
    "## Deep Learning"
   ]
  },
  {
   "cell_type": "code",
   "execution_count": 8,
   "id": "56fd4bb4",
   "metadata": {},
   "outputs": [
    {
     "name": "stderr",
     "output_type": "stream",
     "text": [
      "2025-04-16 20:19:33.982673: W tensorflow/compiler/xla/stream_executor/platform/default/dso_loader.cc:64] Could not load dynamic library 'libcudart.so.11.0'; dlerror: libcudart.so.11.0: cannot open shared object file: No such file or directory\n",
      "2025-04-16 20:19:33.983180: W tensorflow/compiler/xla/stream_executor/platform/default/dso_loader.cc:64] Could not load dynamic library 'libcublas.so.11'; dlerror: libcublas.so.11: cannot open shared object file: No such file or directory\n",
      "2025-04-16 20:19:33.983399: W tensorflow/compiler/xla/stream_executor/platform/default/dso_loader.cc:64] Could not load dynamic library 'libcublasLt.so.11'; dlerror: libcublasLt.so.11: cannot open shared object file: No such file or directory\n",
      "2025-04-16 20:19:33.983633: W tensorflow/compiler/xla/stream_executor/platform/default/dso_loader.cc:64] Could not load dynamic library 'libcufft.so.10'; dlerror: libcufft.so.10: cannot open shared object file: No such file or directory\n",
      "2025-04-16 20:19:34.133572: W tensorflow/compiler/xla/stream_executor/platform/default/dso_loader.cc:64] Could not load dynamic library 'libcusparse.so.11'; dlerror: libcusparse.so.11: cannot open shared object file: No such file or directory\n",
      "2025-04-16 20:19:34.133841: W tensorflow/compiler/xla/stream_executor/platform/default/dso_loader.cc:64] Could not load dynamic library 'libcudnn.so.8'; dlerror: libcudnn.so.8: cannot open shared object file: No such file or directory\n",
      "2025-04-16 20:19:34.133859: W tensorflow/core/common_runtime/gpu/gpu_device.cc:1934] Cannot dlopen some GPU libraries. Please make sure the missing libraries mentioned above are installed properly if you would like to use GPU. Follow the guide at https://www.tensorflow.org/install/gpu for how to download and setup the required libraries for your platform.\n",
      "Skipping registering GPU devices...\n",
      "2025-04-16 20:19:34.135547: I tensorflow/core/platform/cpu_feature_guard.cc:193] This TensorFlow binary is optimized with oneAPI Deep Neural Network Library (oneDNN) to use the following CPU instructions in performance-critical operations:  AVX2 AVX512F AVX512_VNNI FMA\n",
      "To enable them in other operations, rebuild TensorFlow with the appropriate compiler flags.\n"
     ]
    },
    {
     "name": "stdout",
     "output_type": "stream",
     "text": [
      "Model: \"sequential\"\n",
      "_________________________________________________________________\n",
      " Layer (type)                Output Shape              Param #   \n",
      "=================================================================\n",
      " embedding (Embedding)       (None, 300, 64)           128000    \n",
      "                                                                 \n",
      " lstm (LSTM)                 (None, 64)                33024     \n",
      "                                                                 \n",
      " dense (Dense)               (None, 64)                4160      \n",
      "                                                                 \n",
      " dense_1 (Dense)             (None, 46)                2990      \n",
      "                                                                 \n",
      "=================================================================\n",
      "Total params: 168,174\n",
      "Trainable params: 168,174\n",
      "Non-trainable params: 0\n",
      "_________________________________________________________________\n",
      "Epoch 1/5\n",
      "125/125 [==============================] - 20s 145ms/step - loss: 2.5752 - accuracy: 0.3721 - val_loss: 2.3596 - val_accuracy: 0.4012\n",
      "Epoch 2/5\n",
      "125/125 [==============================] - 18s 141ms/step - loss: 2.3162 - accuracy: 0.3823 - val_loss: 2.3412 - val_accuracy: 0.4012\n",
      "Epoch 3/5\n",
      "125/125 [==============================] - 18s 141ms/step - loss: 2.3151 - accuracy: 0.3823 - val_loss: 2.3387 - val_accuracy: 0.4012\n",
      "Epoch 4/5\n",
      "125/125 [==============================] - 18s 141ms/step - loss: 2.3137 - accuracy: 0.3823 - val_loss: 2.3470 - val_accuracy: 0.4012\n",
      "Epoch 5/5\n",
      "125/125 [==============================] - 18s 141ms/step - loss: 2.3142 - accuracy: 0.3823 - val_loss: 2.3452 - val_accuracy: 0.4012\n"
     ]
    }
   ],
   "source": [
    "model = Sequential(\n",
    "    [\n",
    "        Embedding(\n",
    "            input_dim=vocabulary_size, output_dim=64, input_length=max_sequence_length\n",
    "        ),\n",
    "        LSTM(64, return_sequences=False),\n",
    "        Dense(64, activation=\"relu\"),\n",
    "        Dense(\n",
    "            num_classes, activation=\"softmax\"\n",
    "        )\n",
    "    ]\n",
    ")\n",
    "\n",
    "model.compile(optimizer=\"adam\", loss=\"sparse_categorical_crossentropy\", metrics=[\"accuracy\"])\n",
    "\n",
    "model.summary()\n",
    "\n",
    "history = model.fit(\n",
    "    x_train_padded,\n",
    "    y_train,\n",
    "    validation_data=(x_val_padded, y_val),\n",
    "    epochs=5,\n",
    "    batch_size=64,\n",
    ")"
   ]
  },
  {
   "cell_type": "code",
   "execution_count": 9,
   "id": "c8eda567",
   "metadata": {},
   "outputs": [
    {
     "name": "stdout",
     "output_type": "stream",
     "text": [
      "32/32 [==============================] - 1s 34ms/step - loss: 2.3338 - accuracy: 0.3882\n",
      "Test Accuracy: 0.39\n"
     ]
    }
   ],
   "source": [
    "\n",
    "test_loss, test_accuracy = model.evaluate(x_test_padded, y_test)\n",
    "print(f\"Test Accuracy: {test_accuracy:.2f}\")"
   ]
  },
  {
   "cell_type": "markdown",
   "id": "282144d8",
   "metadata": {},
   "source": [
    "## Transfer Learning (Stretch Goal)"
   ]
  },
  {
   "cell_type": "code",
   "execution_count": 13,
   "id": "e1958a91",
   "metadata": {},
   "outputs": [
    {
     "name": "stdout",
     "output_type": "stream",
     "text": [
      "Downloading GloVe embeddings...\n",
      "Extracting GloVe embeddings...\n"
     ]
    }
   ],
   "source": [
    "import os\n",
    "import zipfile\n",
    "import urllib.request\n",
    "\n",
    "# Download and extract GloVe embeddings\n",
    "glove_zip = \"glove.6B.zip\"\n",
    "glove_url = \"http://nlp.stanford.edu/data/glove.6B.zip\"\n",
    "\n",
    "if not os.path.exists(\"glove.6B.100d.txt\"):\n",
    "    if not os.path.exists(glove_zip):\n",
    "        print(\"Downloading GloVe embeddings...\")\n",
    "        urllib.request.urlretrieve(glove_url, glove_zip)\n",
    "\n",
    "    print(\"Extracting GloVe embeddings...\")\n",
    "    with zipfile.ZipFile(glove_zip, \"r\") as zip_ref:\n",
    "        zip_ref.extract(\"glove.6B.100d.txt\")\n"
   ]
  },
  {
   "cell_type": "code",
   "execution_count": null,
   "id": "0ff67f5f",
   "metadata": {},
   "outputs": [
    {
     "name": "stdout",
     "output_type": "stream",
     "text": [
      "Model: \"sequential_1\"\n",
      "_________________________________________________________________\n",
      " Layer (type)                Output Shape              Param #   \n",
      "=================================================================\n",
      " embedding_1 (Embedding)     (None, 300, 100)          200000    \n",
      "                                                                 \n",
      " lstm_1 (LSTM)               (None, 64)                42240     \n",
      "                                                                 \n",
      " dense_2 (Dense)             (None, 64)                4160      \n",
      "                                                                 \n",
      " dense_3 (Dense)             (None, 46)                2990      \n",
      "                                                                 \n",
      "=================================================================\n",
      "Total params: 249,390\n",
      "Trainable params: 249,390\n",
      "Non-trainable params: 0\n",
      "_________________________________________________________________\n",
      "Epoch 1/5\n",
      "125/125 [==============================] - 20s 145ms/step - loss: 2.5361 - accuracy: 0.3794 - val_loss: 2.3510 - val_accuracy: 0.4012\n",
      "Epoch 2/5\n",
      "125/125 [==============================] - 18s 142ms/step - loss: 2.3168 - accuracy: 0.3823 - val_loss: 2.3355 - val_accuracy: 0.4012\n",
      "Epoch 3/5\n",
      "125/125 [==============================] - 18s 142ms/step - loss: 2.3153 - accuracy: 0.3823 - val_loss: 2.3432 - val_accuracy: 0.4012\n",
      "Epoch 4/5\n",
      "112/125 [=========================>....] - ETA: 1s - loss: 2.3170 - accuracy: 0.3823"
     ]
    }
   ],
   "source": [
    "embeddings_index = {}\n",
    "embedding_dim = 100\n",
    "with open(\"glove.6B.100d.txt\", \"r\", encoding=\"utf-8\") as f:\n",
    "    for line in f:\n",
    "        values = line.split()\n",
    "        word = values[0]\n",
    "        vector = np.asarray(values[1:], dtype=\"float32\")\n",
    "        embeddings_index[word] = vector\n",
    "\n",
    "embedding_matrix = np.zeros((vocabulary_size, embedding_dim))\n",
    "\n",
    "for word, i in index_by_word.items():\n",
    "    if i < vocabulary_size:\n",
    "        embedding_vector = embeddings_index.get(word)\n",
    "        if embedding_vector is not None:\n",
    "            embedding_matrix[i] = embedding_vector\n",
    "\n",
    "\n",
    "\n",
    "model = Sequential(\n",
    "    [\n",
    "        Embedding(\n",
    "            input_dim=vocabulary_size,  # Vocabulary size (num_words from word_index)\n",
    "            output_dim=embedding_dim,  # GloVe embedding dimensionality (100)\n",
    "            weights=[embedding_matrix],  # Use the pre-trained GloVe embeddings\n",
    "            input_length=x_train_padded.shape[\n",
    "                1\n",
    "            ],  # Length of input sequences (padded sequences length)\n",
    "            trainable=True,  # Freeze the embeddings (set True to allow fine-tuning)\n",
    "        ),\n",
    "        LSTM(64, return_sequences=False),\n",
    "        Dense(64, activation=\"relu\"),\n",
    "        Dense(num_classes, activation=\"softmax\"),\n",
    "    ]\n",
    ")\n",
    "\n",
    "model.compile(\n",
    "    optimizer=\"adam\", loss=\"sparse_categorical_crossentropy\", metrics=[\"accuracy\"]\n",
    ")\n",
    "\n",
    "model.summary()\n",
    "\n",
    "history = model.fit(\n",
    "    x_train_padded,\n",
    "    y_train,\n",
    "    validation_data=(x_val_padded, y_val),\n",
    "    epochs=5,\n",
    "    batch_size=64,\n",
    ")"
   ]
  },
  {
   "cell_type": "markdown",
   "id": "3249343d",
   "metadata": {},
   "source": [
    "## Pretrained Model Fine-Tuning (Stretch Goal)"
   ]
  }
 ],
 "metadata": {
  "kernelspec": {
   "display_name": "Python 3 (ipykernel)",
   "language": "python",
   "name": "python3"
  },
  "language_info": {
   "codemirror_mode": {
    "name": "ipython",
    "version": 3
   },
   "file_extension": ".py",
   "mimetype": "text/x-python",
   "name": "python",
   "nbconvert_exporter": "python",
   "pygments_lexer": "ipython3",
   "version": "3.7.13"
  }
 },
 "nbformat": 4,
 "nbformat_minor": 5
}
